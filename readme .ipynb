{
 "cells": [
  {
   "cell_type": "markdown",
   "metadata": {},
   "source": [
    "# Investigating COVID-19 Impact on Flights Delay Time For The Top 4 Airlines in US"
   ]
  },
  {
   "cell_type": "markdown",
   "metadata": {},
   "source": [
    "## Introduction\n",
    "\n",
    "> www.transtats.bts.gov is a website contains various datasets for transportation means details. In this notebook, python popular data analysis packages are used to investigate the COVID-19 effect on flights and the airlines on-time performance for the top 4 airlines (carriers) in US. The data records are taken in May-2018, May-2019, and May-2020. The purpose is to compare 2018 and 2019 May season with the former in 2020 (during the global crisis). There are three datasets (one for each year) that need assessing cleaning. Also, they should be combined first in one DataFrame.\n",
    "\n",
    "## Dataset Overview\n",
    "\n",
    "> The chosen dataset contains 11 columns, 6 of them are interesting features. Each record represents a flight between US states. All flights are on May but in different years (2018, 2019, and 2020). The columns and interesting features are illustrated as following (each is defined by the column name):\n",
    "- `YEAR`: The year of flight (2018, 2019, or 2020).\n",
    "- `MONTH`: The month of flight (all 5 (May)).\n",
    "- `OP_UNIQUE_CARRIER` (carrier code) : Unique Carrier Code. Each code represents   a specific carrier (airline). For example, AA for American Airlines Inc.\n",
    "- `ORIGIN_STATE_NM` (departure state name): Origin State Name.\n",
    "- `DEST_STATE_NM` (arrival state name): Destination State Name.\n",
    "- `DEP_DELAY`: Difference in minutes between scheduled and actual departure time.              Early departures show negative numbers.\n",
    "- `DEP_DEL15`: If the flight delayed more than 15 minutes on departure, the value will be (1), else (0).\n",
    "- `ARR_DELAY`: Difference in minutes between scheduled and actual arrival time.                Early arrivals show negative numbers.\n",
    "- `ArrDel15`: If the flight delayed more than 15 minutes on arrival, the value will be (1), else (0).\n",
    "- `CANCELLED`: If the flight is canceled, the value will be (1), else (0).\n",
    "- `DISTANCE`: Distance between airports (miles).\t\t\n",
    "\n",
    "The interesting feature are: `YEAR`, `OP_UNIQUE_CARRIER`, `DEP_DELAY`, `ARR_DELAY`, `CANCELLED`, and `DISTANCE`\n"
   ]
  },
  {
   "cell_type": "markdown",
   "metadata": {},
   "source": [
    "## - Main findings from the exploratory data analysis, and how you chose the results to put in your explanatory analysis."
   ]
  }
 ],
 "metadata": {
  "kernelspec": {
   "display_name": "Python 3",
   "language": "python",
   "name": "python3"
  },
  "language_info": {
   "codemirror_mode": {
    "name": "ipython",
    "version": 3
   },
   "file_extension": ".py",
   "mimetype": "text/x-python",
   "name": "python",
   "nbconvert_exporter": "python",
   "pygments_lexer": "ipython3",
   "version": "3.7.6"
  }
 },
 "nbformat": 4,
 "nbformat_minor": 4
}
