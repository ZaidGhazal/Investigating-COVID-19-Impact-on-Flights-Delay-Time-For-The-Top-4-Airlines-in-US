{
  "nbformat": 4,
  "nbformat_minor": 0,
  "metadata": {
    "kernelspec": {
      "display_name": "Python 3",
      "language": "python",
      "name": "python3"
    },
    "language_info": {
      "codemirror_mode": {
        "name": "ipython",
        "version": 3
      },
      "file_extension": ".py",
      "mimetype": "text/x-python",
      "name": "python",
      "nbconvert_exporter": "python",
      "pygments_lexer": "ipython3",
      "version": "3.7.6"
    },
    "colab": {
      "name": "exploration_template.ipynb",
      "provenance": [],
      "collapsed_sections": [
        "GKW14zBUdi3-",
        "do7eKm7fdi3_",
        "z4iRvEaXdi4C",
        "9Uw8UVVqdi4H",
        "YwfX-8XNdi4H",
        "7uOl-gBFdi4O"
      ]
    }
  },
  "cells": [
    {
      "cell_type": "markdown",
      "metadata": {
        "id": "DKYPy9zndi2_",
        "colab_type": "text"
      },
      "source": [
        "# (Investigating COVID-19 Impact on Flights Delay Time For The Top 4 Airlines in US)\n",
        "## by (Zaid Ghazal)\n",
        "\n",
        "www.transtats.bts.gov is a website contains various datasets for transportation means details. In this notebook, python popular data analysis packages are used to investigate the COVID-19 effect on flights and the airlines on-time performance for the top 4 airlines (carriers) in US. The data records are taken in May-2018, May-2019, and May-2020. The purpose is to compare 2018 and 2019 May season with the former in 2020 (during the global crisis). There are three datasets (one for each year) that need assessing cleaning. Also, they should be combined first in one DataFrame.\n",
        "\n",
        "**Note**: The departure/arrival delay columns (in minutes) might have negative number. This means the flight departed/arrived before the scheduled time."
      ]
    },
    {
      "cell_type": "code",
      "metadata": {
        "id": "Nlo55t1Cdi2_",
        "colab_type": "code",
        "colab": {}
      },
      "source": [
        "# import all packages and set plots to be embedded inline\n",
        "import numpy as np\n",
        "import pandas as pd\n",
        "import matplotlib.pyplot as plt\n",
        "import seaborn as sb\n",
        "import warnings\n",
        "warnings.simplefilter(\"ignore\")\n",
        "%matplotlib inline"
      ],
      "execution_count": null,
      "outputs": []
    },
    {
      "cell_type": "markdown",
      "metadata": {
        "id": "2UNe0kmLdi3D",
        "colab_type": "text"
      },
      "source": [
        "> Load in your dataset and describe its properties through the questions below.\n",
        "Try and motivate your exploration goals through this section."
      ]
    },
    {
      "cell_type": "code",
      "metadata": {
        "id": "XZev44Redi3D",
        "colab_type": "code",
        "colab": {}
      },
      "source": [
        "df_2018 = pd.read_csv('May_2018.csv')\n",
        "df_2019 = pd.read_csv('May_2019.csv')\n",
        "df_2020 = pd.read_csv('May_2020.csv')"
      ],
      "execution_count": null,
      "outputs": []
    },
    {
      "cell_type": "code",
      "metadata": {
        "id": "5oFj1Rz4di3F",
        "colab_type": "code",
        "colab": {},
        "outputId": "9dc7b396-cfb7-46dc-8f8a-b6939c371670"
      },
      "source": [
        "df_2018.head()"
      ],
      "execution_count": null,
      "outputs": [
        {
          "output_type": "execute_result",
          "data": {
            "text/html": [
              "<div>\n",
              "<style scoped>\n",
              "    .dataframe tbody tr th:only-of-type {\n",
              "        vertical-align: middle;\n",
              "    }\n",
              "\n",
              "    .dataframe tbody tr th {\n",
              "        vertical-align: top;\n",
              "    }\n",
              "\n",
              "    .dataframe thead th {\n",
              "        text-align: right;\n",
              "    }\n",
              "</style>\n",
              "<table border=\"1\" class=\"dataframe\">\n",
              "  <thead>\n",
              "    <tr style=\"text-align: right;\">\n",
              "      <th></th>\n",
              "      <th>YEAR</th>\n",
              "      <th>MONTH</th>\n",
              "      <th>OP_UNIQUE_CARRIER</th>\n",
              "      <th>ORIGIN_STATE_NM</th>\n",
              "      <th>DEST_STATE_NM</th>\n",
              "      <th>DEP_DELAY</th>\n",
              "      <th>DEP_DEL15</th>\n",
              "      <th>ARR_DELAY</th>\n",
              "      <th>ARR_DEL15</th>\n",
              "      <th>CANCELLED</th>\n",
              "      <th>DISTANCE</th>\n",
              "    </tr>\n",
              "  </thead>\n",
              "  <tbody>\n",
              "    <tr>\n",
              "      <th>0</th>\n",
              "      <td>2018</td>\n",
              "      <td>5</td>\n",
              "      <td>EV</td>\n",
              "      <td>Texas</td>\n",
              "      <td>South Carolina</td>\n",
              "      <td>-3.0</td>\n",
              "      <td>0.0</td>\n",
              "      <td>-18.0</td>\n",
              "      <td>0.0</td>\n",
              "      <td>0</td>\n",
              "      <td>878</td>\n",
              "    </tr>\n",
              "    <tr>\n",
              "      <th>1</th>\n",
              "      <td>2018</td>\n",
              "      <td>5</td>\n",
              "      <td>EV</td>\n",
              "      <td>Texas</td>\n",
              "      <td>South Carolina</td>\n",
              "      <td>-1.0</td>\n",
              "      <td>0.0</td>\n",
              "      <td>-18.0</td>\n",
              "      <td>0.0</td>\n",
              "      <td>0</td>\n",
              "      <td>878</td>\n",
              "    </tr>\n",
              "    <tr>\n",
              "      <th>2</th>\n",
              "      <td>2018</td>\n",
              "      <td>5</td>\n",
              "      <td>EV</td>\n",
              "      <td>Texas</td>\n",
              "      <td>South Carolina</td>\n",
              "      <td>-5.0</td>\n",
              "      <td>0.0</td>\n",
              "      <td>-17.0</td>\n",
              "      <td>0.0</td>\n",
              "      <td>0</td>\n",
              "      <td>878</td>\n",
              "    </tr>\n",
              "    <tr>\n",
              "      <th>3</th>\n",
              "      <td>2018</td>\n",
              "      <td>5</td>\n",
              "      <td>EV</td>\n",
              "      <td>Texas</td>\n",
              "      <td>South Carolina</td>\n",
              "      <td>-4.0</td>\n",
              "      <td>0.0</td>\n",
              "      <td>-24.0</td>\n",
              "      <td>0.0</td>\n",
              "      <td>0</td>\n",
              "      <td>878</td>\n",
              "    </tr>\n",
              "    <tr>\n",
              "      <th>4</th>\n",
              "      <td>2018</td>\n",
              "      <td>5</td>\n",
              "      <td>EV</td>\n",
              "      <td>Texas</td>\n",
              "      <td>South Carolina</td>\n",
              "      <td>-1.0</td>\n",
              "      <td>0.0</td>\n",
              "      <td>-4.0</td>\n",
              "      <td>0.0</td>\n",
              "      <td>0</td>\n",
              "      <td>878</td>\n",
              "    </tr>\n",
              "  </tbody>\n",
              "</table>\n",
              "</div>"
            ],
            "text/plain": [
              "   YEAR  MONTH OP_UNIQUE_CARRIER ORIGIN_STATE_NM   DEST_STATE_NM  DEP_DELAY  \\\n",
              "0  2018      5                EV           Texas  South Carolina       -3.0   \n",
              "1  2018      5                EV           Texas  South Carolina       -1.0   \n",
              "2  2018      5                EV           Texas  South Carolina       -5.0   \n",
              "3  2018      5                EV           Texas  South Carolina       -4.0   \n",
              "4  2018      5                EV           Texas  South Carolina       -1.0   \n",
              "\n",
              "   DEP_DEL15  ARR_DELAY  ARR_DEL15  CANCELLED  DISTANCE  \n",
              "0        0.0      -18.0        0.0          0       878  \n",
              "1        0.0      -18.0        0.0          0       878  \n",
              "2        0.0      -17.0        0.0          0       878  \n",
              "3        0.0      -24.0        0.0          0       878  \n",
              "4        0.0       -4.0        0.0          0       878  "
            ]
          },
          "metadata": {
            "tags": []
          },
          "execution_count": 3
        }
      ]
    },
    {
      "cell_type": "code",
      "metadata": {
        "id": "A5COelvcdi3I",
        "colab_type": "code",
        "colab": {},
        "outputId": "02a04bd1-6169-409b-babe-e551b5a59f37"
      },
      "source": [
        "df_2019.head()"
      ],
      "execution_count": null,
      "outputs": [
        {
          "output_type": "execute_result",
          "data": {
            "text/html": [
              "<div>\n",
              "<style scoped>\n",
              "    .dataframe tbody tr th:only-of-type {\n",
              "        vertical-align: middle;\n",
              "    }\n",
              "\n",
              "    .dataframe tbody tr th {\n",
              "        vertical-align: top;\n",
              "    }\n",
              "\n",
              "    .dataframe thead th {\n",
              "        text-align: right;\n",
              "    }\n",
              "</style>\n",
              "<table border=\"1\" class=\"dataframe\">\n",
              "  <thead>\n",
              "    <tr style=\"text-align: right;\">\n",
              "      <th></th>\n",
              "      <th>YEAR</th>\n",
              "      <th>MONTH</th>\n",
              "      <th>OP_UNIQUE_CARRIER</th>\n",
              "      <th>ORIGIN_STATE_NM</th>\n",
              "      <th>DEST_STATE_NM</th>\n",
              "      <th>DEP_DELAY</th>\n",
              "      <th>DEP_DEL15</th>\n",
              "      <th>ARR_DELAY</th>\n",
              "      <th>ARR_DEL15</th>\n",
              "      <th>CANCELLED</th>\n",
              "      <th>DISTANCE</th>\n",
              "    </tr>\n",
              "  </thead>\n",
              "  <tbody>\n",
              "    <tr>\n",
              "      <th>0</th>\n",
              "      <td>2019</td>\n",
              "      <td>5</td>\n",
              "      <td>YX</td>\n",
              "      <td>Missouri</td>\n",
              "      <td>New Jersey</td>\n",
              "      <td>-2.0</td>\n",
              "      <td>0.0</td>\n",
              "      <td>-2.0</td>\n",
              "      <td>0.0</td>\n",
              "      <td>0</td>\n",
              "      <td>872</td>\n",
              "    </tr>\n",
              "    <tr>\n",
              "      <th>1</th>\n",
              "      <td>2019</td>\n",
              "      <td>5</td>\n",
              "      <td>YX</td>\n",
              "      <td>Illinois</td>\n",
              "      <td>North Carolina</td>\n",
              "      <td>-9.0</td>\n",
              "      <td>0.0</td>\n",
              "      <td>-27.0</td>\n",
              "      <td>0.0</td>\n",
              "      <td>0</td>\n",
              "      <td>646</td>\n",
              "    </tr>\n",
              "    <tr>\n",
              "      <th>2</th>\n",
              "      <td>2019</td>\n",
              "      <td>5</td>\n",
              "      <td>YX</td>\n",
              "      <td>Minnesota</td>\n",
              "      <td>Illinois</td>\n",
              "      <td>-6.0</td>\n",
              "      <td>0.0</td>\n",
              "      <td>-7.0</td>\n",
              "      <td>0.0</td>\n",
              "      <td>0</td>\n",
              "      <td>334</td>\n",
              "    </tr>\n",
              "    <tr>\n",
              "      <th>3</th>\n",
              "      <td>2019</td>\n",
              "      <td>5</td>\n",
              "      <td>YX</td>\n",
              "      <td>Illinois</td>\n",
              "      <td>Tennessee</td>\n",
              "      <td>-5.0</td>\n",
              "      <td>0.0</td>\n",
              "      <td>-6.0</td>\n",
              "      <td>0.0</td>\n",
              "      <td>0</td>\n",
              "      <td>409</td>\n",
              "    </tr>\n",
              "    <tr>\n",
              "      <th>4</th>\n",
              "      <td>2019</td>\n",
              "      <td>5</td>\n",
              "      <td>YX</td>\n",
              "      <td>New Jersey</td>\n",
              "      <td>Missouri</td>\n",
              "      <td>-8.0</td>\n",
              "      <td>0.0</td>\n",
              "      <td>-17.0</td>\n",
              "      <td>0.0</td>\n",
              "      <td>0</td>\n",
              "      <td>1092</td>\n",
              "    </tr>\n",
              "  </tbody>\n",
              "</table>\n",
              "</div>"
            ],
            "text/plain": [
              "   YEAR  MONTH OP_UNIQUE_CARRIER ORIGIN_STATE_NM   DEST_STATE_NM  DEP_DELAY  \\\n",
              "0  2019      5                YX        Missouri      New Jersey       -2.0   \n",
              "1  2019      5                YX        Illinois  North Carolina       -9.0   \n",
              "2  2019      5                YX       Minnesota        Illinois       -6.0   \n",
              "3  2019      5                YX        Illinois       Tennessee       -5.0   \n",
              "4  2019      5                YX      New Jersey        Missouri       -8.0   \n",
              "\n",
              "   DEP_DEL15  ARR_DELAY  ARR_DEL15  CANCELLED  DISTANCE  \n",
              "0        0.0       -2.0        0.0          0       872  \n",
              "1        0.0      -27.0        0.0          0       646  \n",
              "2        0.0       -7.0        0.0          0       334  \n",
              "3        0.0       -6.0        0.0          0       409  \n",
              "4        0.0      -17.0        0.0          0      1092  "
            ]
          },
          "metadata": {
            "tags": []
          },
          "execution_count": 4
        }
      ]
    },
    {
      "cell_type": "code",
      "metadata": {
        "id": "ZKFYKVUadi3K",
        "colab_type": "code",
        "colab": {},
        "outputId": "c7cbba0c-aa5d-4b00-fa21-b67ec2b5059c"
      },
      "source": [
        "df_2020.head()"
      ],
      "execution_count": null,
      "outputs": [
        {
          "output_type": "execute_result",
          "data": {
            "text/html": [
              "<div>\n",
              "<style scoped>\n",
              "    .dataframe tbody tr th:only-of-type {\n",
              "        vertical-align: middle;\n",
              "    }\n",
              "\n",
              "    .dataframe tbody tr th {\n",
              "        vertical-align: top;\n",
              "    }\n",
              "\n",
              "    .dataframe thead th {\n",
              "        text-align: right;\n",
              "    }\n",
              "</style>\n",
              "<table border=\"1\" class=\"dataframe\">\n",
              "  <thead>\n",
              "    <tr style=\"text-align: right;\">\n",
              "      <th></th>\n",
              "      <th>YEAR</th>\n",
              "      <th>MONTH</th>\n",
              "      <th>OP_UNIQUE_CARRIER</th>\n",
              "      <th>ORIGIN_STATE_NM</th>\n",
              "      <th>DEST_STATE_NM</th>\n",
              "      <th>DEP_DELAY</th>\n",
              "      <th>DEP_DEL15</th>\n",
              "      <th>ARR_DELAY</th>\n",
              "      <th>ARR_DEL15</th>\n",
              "      <th>CANCELLED</th>\n",
              "      <th>DISTANCE</th>\n",
              "    </tr>\n",
              "  </thead>\n",
              "  <tbody>\n",
              "    <tr>\n",
              "      <th>0</th>\n",
              "      <td>2020</td>\n",
              "      <td>5</td>\n",
              "      <td>WN</td>\n",
              "      <td>Hawaii</td>\n",
              "      <td>Hawaii</td>\n",
              "      <td>-5.0</td>\n",
              "      <td>0.0</td>\n",
              "      <td>-19.0</td>\n",
              "      <td>0.0</td>\n",
              "      <td>0</td>\n",
              "      <td>163</td>\n",
              "    </tr>\n",
              "    <tr>\n",
              "      <th>1</th>\n",
              "      <td>2020</td>\n",
              "      <td>5</td>\n",
              "      <td>WN</td>\n",
              "      <td>Hawaii</td>\n",
              "      <td>Hawaii</td>\n",
              "      <td>-19.0</td>\n",
              "      <td>0.0</td>\n",
              "      <td>-25.0</td>\n",
              "      <td>0.0</td>\n",
              "      <td>0</td>\n",
              "      <td>84</td>\n",
              "    </tr>\n",
              "    <tr>\n",
              "      <th>2</th>\n",
              "      <td>2020</td>\n",
              "      <td>5</td>\n",
              "      <td>WN</td>\n",
              "      <td>Nevada</td>\n",
              "      <td>New Mexico</td>\n",
              "      <td>-3.0</td>\n",
              "      <td>0.0</td>\n",
              "      <td>-17.0</td>\n",
              "      <td>0.0</td>\n",
              "      <td>0</td>\n",
              "      <td>486</td>\n",
              "    </tr>\n",
              "    <tr>\n",
              "      <th>3</th>\n",
              "      <td>2020</td>\n",
              "      <td>5</td>\n",
              "      <td>WN</td>\n",
              "      <td>Nevada</td>\n",
              "      <td>New Mexico</td>\n",
              "      <td>-3.0</td>\n",
              "      <td>0.0</td>\n",
              "      <td>-10.0</td>\n",
              "      <td>0.0</td>\n",
              "      <td>0</td>\n",
              "      <td>486</td>\n",
              "    </tr>\n",
              "    <tr>\n",
              "      <th>4</th>\n",
              "      <td>2020</td>\n",
              "      <td>5</td>\n",
              "      <td>WN</td>\n",
              "      <td>Nevada</td>\n",
              "      <td>Georgia</td>\n",
              "      <td>-1.0</td>\n",
              "      <td>0.0</td>\n",
              "      <td>-27.0</td>\n",
              "      <td>0.0</td>\n",
              "      <td>0</td>\n",
              "      <td>1747</td>\n",
              "    </tr>\n",
              "  </tbody>\n",
              "</table>\n",
              "</div>"
            ],
            "text/plain": [
              "   YEAR  MONTH OP_UNIQUE_CARRIER ORIGIN_STATE_NM DEST_STATE_NM  DEP_DELAY  \\\n",
              "0  2020      5                WN          Hawaii        Hawaii       -5.0   \n",
              "1  2020      5                WN          Hawaii        Hawaii      -19.0   \n",
              "2  2020      5                WN          Nevada    New Mexico       -3.0   \n",
              "3  2020      5                WN          Nevada    New Mexico       -3.0   \n",
              "4  2020      5                WN          Nevada       Georgia       -1.0   \n",
              "\n",
              "   DEP_DEL15  ARR_DELAY  ARR_DEL15  CANCELLED  DISTANCE  \n",
              "0        0.0      -19.0        0.0          0       163  \n",
              "1        0.0      -25.0        0.0          0        84  \n",
              "2        0.0      -17.0        0.0          0       486  \n",
              "3        0.0      -10.0        0.0          0       486  \n",
              "4        0.0      -27.0        0.0          0      1747  "
            ]
          },
          "metadata": {
            "tags": []
          },
          "execution_count": 5
        }
      ]
    },
    {
      "cell_type": "code",
      "metadata": {
        "id": "nr6bZ9MEdi3N",
        "colab_type": "code",
        "colab": {},
        "outputId": "d275f8fb-ec58-4a72-d3fd-1c2137b8909c"
      },
      "source": [
        "# Combining the three datasets using .concat() function in new variable named `df_all`\n",
        "frames = [df_2018, df_2019, df_2020]\n",
        "df_all = pd.concat(frames, ignore_index=True)\n",
        "df_all"
      ],
      "execution_count": null,
      "outputs": [
        {
          "output_type": "execute_result",
          "data": {
            "text/html": [
              "<div>\n",
              "<style scoped>\n",
              "    .dataframe tbody tr th:only-of-type {\n",
              "        vertical-align: middle;\n",
              "    }\n",
              "\n",
              "    .dataframe tbody tr th {\n",
              "        vertical-align: top;\n",
              "    }\n",
              "\n",
              "    .dataframe thead th {\n",
              "        text-align: right;\n",
              "    }\n",
              "</style>\n",
              "<table border=\"1\" class=\"dataframe\">\n",
              "  <thead>\n",
              "    <tr style=\"text-align: right;\">\n",
              "      <th></th>\n",
              "      <th>YEAR</th>\n",
              "      <th>MONTH</th>\n",
              "      <th>OP_UNIQUE_CARRIER</th>\n",
              "      <th>ORIGIN_STATE_NM</th>\n",
              "      <th>DEST_STATE_NM</th>\n",
              "      <th>DEP_DELAY</th>\n",
              "      <th>DEP_DEL15</th>\n",
              "      <th>ARR_DELAY</th>\n",
              "      <th>ARR_DEL15</th>\n",
              "      <th>CANCELLED</th>\n",
              "      <th>DISTANCE</th>\n",
              "    </tr>\n",
              "  </thead>\n",
              "  <tbody>\n",
              "    <tr>\n",
              "      <th>0</th>\n",
              "      <td>2018</td>\n",
              "      <td>5</td>\n",
              "      <td>EV</td>\n",
              "      <td>Texas</td>\n",
              "      <td>South Carolina</td>\n",
              "      <td>-3.0</td>\n",
              "      <td>0.0</td>\n",
              "      <td>-18.0</td>\n",
              "      <td>0.0</td>\n",
              "      <td>0</td>\n",
              "      <td>878</td>\n",
              "    </tr>\n",
              "    <tr>\n",
              "      <th>1</th>\n",
              "      <td>2018</td>\n",
              "      <td>5</td>\n",
              "      <td>EV</td>\n",
              "      <td>Texas</td>\n",
              "      <td>South Carolina</td>\n",
              "      <td>-1.0</td>\n",
              "      <td>0.0</td>\n",
              "      <td>-18.0</td>\n",
              "      <td>0.0</td>\n",
              "      <td>0</td>\n",
              "      <td>878</td>\n",
              "    </tr>\n",
              "    <tr>\n",
              "      <th>2</th>\n",
              "      <td>2018</td>\n",
              "      <td>5</td>\n",
              "      <td>EV</td>\n",
              "      <td>Texas</td>\n",
              "      <td>South Carolina</td>\n",
              "      <td>-5.0</td>\n",
              "      <td>0.0</td>\n",
              "      <td>-17.0</td>\n",
              "      <td>0.0</td>\n",
              "      <td>0</td>\n",
              "      <td>878</td>\n",
              "    </tr>\n",
              "    <tr>\n",
              "      <th>3</th>\n",
              "      <td>2018</td>\n",
              "      <td>5</td>\n",
              "      <td>EV</td>\n",
              "      <td>Texas</td>\n",
              "      <td>South Carolina</td>\n",
              "      <td>-4.0</td>\n",
              "      <td>0.0</td>\n",
              "      <td>-24.0</td>\n",
              "      <td>0.0</td>\n",
              "      <td>0</td>\n",
              "      <td>878</td>\n",
              "    </tr>\n",
              "    <tr>\n",
              "      <th>4</th>\n",
              "      <td>2018</td>\n",
              "      <td>5</td>\n",
              "      <td>EV</td>\n",
              "      <td>Texas</td>\n",
              "      <td>South Carolina</td>\n",
              "      <td>-1.0</td>\n",
              "      <td>0.0</td>\n",
              "      <td>-4.0</td>\n",
              "      <td>0.0</td>\n",
              "      <td>0</td>\n",
              "      <td>878</td>\n",
              "    </tr>\n",
              "    <tr>\n",
              "      <th>...</th>\n",
              "      <td>...</td>\n",
              "      <td>...</td>\n",
              "      <td>...</td>\n",
              "      <td>...</td>\n",
              "      <td>...</td>\n",
              "      <td>...</td>\n",
              "      <td>...</td>\n",
              "      <td>...</td>\n",
              "      <td>...</td>\n",
              "      <td>...</td>\n",
              "      <td>...</td>\n",
              "    </tr>\n",
              "    <tr>\n",
              "      <th>1433531</th>\n",
              "      <td>2020</td>\n",
              "      <td>5</td>\n",
              "      <td>UA</td>\n",
              "      <td>New Jersey</td>\n",
              "      <td>California</td>\n",
              "      <td>-6.0</td>\n",
              "      <td>0.0</td>\n",
              "      <td>-35.0</td>\n",
              "      <td>0.0</td>\n",
              "      <td>0</td>\n",
              "      <td>2454</td>\n",
              "    </tr>\n",
              "    <tr>\n",
              "      <th>1433532</th>\n",
              "      <td>2020</td>\n",
              "      <td>5</td>\n",
              "      <td>UA</td>\n",
              "      <td>Ohio</td>\n",
              "      <td>New Jersey</td>\n",
              "      <td>-14.0</td>\n",
              "      <td>0.0</td>\n",
              "      <td>-23.0</td>\n",
              "      <td>0.0</td>\n",
              "      <td>0</td>\n",
              "      <td>404</td>\n",
              "    </tr>\n",
              "    <tr>\n",
              "      <th>1433533</th>\n",
              "      <td>2020</td>\n",
              "      <td>5</td>\n",
              "      <td>UA</td>\n",
              "      <td>Colorado</td>\n",
              "      <td>Arizona</td>\n",
              "      <td>-3.0</td>\n",
              "      <td>0.0</td>\n",
              "      <td>-25.0</td>\n",
              "      <td>0.0</td>\n",
              "      <td>0</td>\n",
              "      <td>602</td>\n",
              "    </tr>\n",
              "    <tr>\n",
              "      <th>1433534</th>\n",
              "      <td>2020</td>\n",
              "      <td>5</td>\n",
              "      <td>UA</td>\n",
              "      <td>California</td>\n",
              "      <td>Virginia</td>\n",
              "      <td>-6.0</td>\n",
              "      <td>0.0</td>\n",
              "      <td>-9.0</td>\n",
              "      <td>0.0</td>\n",
              "      <td>0</td>\n",
              "      <td>2419</td>\n",
              "    </tr>\n",
              "    <tr>\n",
              "      <th>1433535</th>\n",
              "      <td>2020</td>\n",
              "      <td>5</td>\n",
              "      <td>UA</td>\n",
              "      <td>Texas</td>\n",
              "      <td>Colorado</td>\n",
              "      <td>3.0</td>\n",
              "      <td>0.0</td>\n",
              "      <td>-31.0</td>\n",
              "      <td>0.0</td>\n",
              "      <td>0</td>\n",
              "      <td>775</td>\n",
              "    </tr>\n",
              "  </tbody>\n",
              "</table>\n",
              "<p>1433536 rows × 11 columns</p>\n",
              "</div>"
            ],
            "text/plain": [
              "         YEAR  MONTH OP_UNIQUE_CARRIER ORIGIN_STATE_NM   DEST_STATE_NM  \\\n",
              "0        2018      5                EV           Texas  South Carolina   \n",
              "1        2018      5                EV           Texas  South Carolina   \n",
              "2        2018      5                EV           Texas  South Carolina   \n",
              "3        2018      5                EV           Texas  South Carolina   \n",
              "4        2018      5                EV           Texas  South Carolina   \n",
              "...       ...    ...               ...             ...             ...   \n",
              "1433531  2020      5                UA      New Jersey      California   \n",
              "1433532  2020      5                UA            Ohio      New Jersey   \n",
              "1433533  2020      5                UA        Colorado         Arizona   \n",
              "1433534  2020      5                UA      California        Virginia   \n",
              "1433535  2020      5                UA           Texas        Colorado   \n",
              "\n",
              "         DEP_DELAY  DEP_DEL15  ARR_DELAY  ARR_DEL15  CANCELLED  DISTANCE  \n",
              "0             -3.0        0.0      -18.0        0.0          0       878  \n",
              "1             -1.0        0.0      -18.0        0.0          0       878  \n",
              "2             -5.0        0.0      -17.0        0.0          0       878  \n",
              "3             -4.0        0.0      -24.0        0.0          0       878  \n",
              "4             -1.0        0.0       -4.0        0.0          0       878  \n",
              "...            ...        ...        ...        ...        ...       ...  \n",
              "1433531       -6.0        0.0      -35.0        0.0          0      2454  \n",
              "1433532      -14.0        0.0      -23.0        0.0          0       404  \n",
              "1433533       -3.0        0.0      -25.0        0.0          0       602  \n",
              "1433534       -6.0        0.0       -9.0        0.0          0      2419  \n",
              "1433535        3.0        0.0      -31.0        0.0          0       775  \n",
              "\n",
              "[1433536 rows x 11 columns]"
            ]
          },
          "metadata": {
            "tags": []
          },
          "execution_count": 6
        }
      ]
    },
    {
      "cell_type": "markdown",
      "metadata": {
        "id": "eFOfQCDzdi3P",
        "colab_type": "text"
      },
      "source": [
        "### What is the structure of your dataset?\n",
        "The dataset consists of flights primary information and the delay time occurred in departure or/and arrival. Each row indicates a flight with unique flight number and its information. Besides, each column refer to specific feature like the carrier name and the delay duration ...etc.\n",
        "\n",
        "### What is/are the main feature(s) of interest in your dataset?\n",
        "- `YEAR`: The flight date in years\n",
        "- `MONTH`: The flight date in months (All flights are in May)\n",
        "- `OP_UNIQUE_CARRIER`: Airline name code\n",
        "- `ORIGIN_STATE_NM` and `DEST_STATE_NM`: departure and arrival states names\n",
        "- `DEP_DELAY and ARR_DELAY`: The delay duration on departure/arrival, in minutes\n",
        "- `DEP_DEL15` and `ARR_DEL15`: If the delay duration on departure/arrival is more than or equal to 15 minutes, the value would be 1\n",
        "- `CANCELLED`: weather the flight canceled or not \n",
        "- `DISTANCE`: Traveling distance, in miles\n",
        "### What features in the dataset do you think will help support your investigation into your feature(s) of interest?\n",
        "\n",
        "- `OP_UNIQUE_CARRIER` (Carrier name)\n",
        "- `DEP_DELAY` and `ARR_DELAY`\n",
        "- `CANCELLED`\n",
        "- `DISTANCE`\n",
        "- `YEAR`"
      ]
    },
    {
      "cell_type": "markdown",
      "metadata": {
        "id": "vYBfxSnKdi3P",
        "colab_type": "text"
      },
      "source": [
        "## Data Wrangling:"
      ]
    },
    {
      "cell_type": "code",
      "metadata": {
        "id": "x6E9sImZdi3Q",
        "colab_type": "code",
        "colab": {}
      },
      "source": [
        "df_all.drop(columns=['MONTH'], axis=1, inplace=True)\n",
        "#since all flights are in May, wee do not need the 'MONTH' column "
      ],
      "execution_count": null,
      "outputs": []
    },
    {
      "cell_type": "code",
      "metadata": {
        "id": "OLdZ5-M7di3S",
        "colab_type": "code",
        "colab": {},
        "outputId": "7b021032-da9d-43d0-e2b2-68b581e2dede"
      },
      "source": [
        "df_all.info()"
      ],
      "execution_count": null,
      "outputs": [
        {
          "output_type": "stream",
          "text": [
            "<class 'pandas.core.frame.DataFrame'>\n",
            "RangeIndex: 1433536 entries, 0 to 1433535\n",
            "Data columns (total 10 columns):\n",
            " #   Column             Non-Null Count    Dtype  \n",
            "---  ------             --------------    -----  \n",
            " 0   YEAR               1433536 non-null  int64  \n",
            " 1   OP_UNIQUE_CARRIER  1433536 non-null  object \n",
            " 2   ORIGIN_STATE_NM    1433536 non-null  object \n",
            " 3   DEST_STATE_NM      1433536 non-null  object \n",
            " 4   DEP_DELAY          1402067 non-null  float64\n",
            " 5   DEP_DEL15          1402067 non-null  float64\n",
            " 6   ARR_DELAY          1397296 non-null  float64\n",
            " 7   ARR_DEL15          1397296 non-null  float64\n",
            " 8   CANCELLED          1433536 non-null  int64  \n",
            " 9   DISTANCE           1433536 non-null  int64  \n",
            "dtypes: float64(4), int64(3), object(3)\n",
            "memory usage: 109.4+ MB\n"
          ],
          "name": "stdout"
        }
      ]
    },
    {
      "cell_type": "code",
      "metadata": {
        "id": "5x5XQC5Gdi3U",
        "colab_type": "code",
        "colab": {},
        "outputId": "586ad5a5-8015-45e8-d488-aea0db02f9d0"
      },
      "source": [
        "# Change columns names to be percise and easier to deal with\n",
        "df_all.rename(columns={'OP_UNIQUE_CARRIER':'carrier',\n",
        "                          'ORIGIN_STATE_NM':'departure_state',\n",
        "                          'DEST_STATE_NM':'arrival_state',\n",
        "                          'DEP_DELAY_NEW':'departure_delay',       \n",
        "                          'ARR_DELAY_NEW':'arrival_delay',\n",
        "                           'DEP_DEL15':'departure_over15_delay' ,\n",
        "                           'ARR_DEL15':'arrival_over15_delay' ,\n",
        "                      'ARR_DELAY':'arrival_delay',\n",
        "                      'DEP_DELAY':'departure_delay'}, \n",
        "                 inplace=True)\n",
        "df_all.columns = map(str.lower, df_all.columns) # Apply .lower() to ensure all columns in lower case\n",
        "df_all.head()"
      ],
      "execution_count": null,
      "outputs": [
        {
          "output_type": "execute_result",
          "data": {
            "text/html": [
              "<div>\n",
              "<style scoped>\n",
              "    .dataframe tbody tr th:only-of-type {\n",
              "        vertical-align: middle;\n",
              "    }\n",
              "\n",
              "    .dataframe tbody tr th {\n",
              "        vertical-align: top;\n",
              "    }\n",
              "\n",
              "    .dataframe thead th {\n",
              "        text-align: right;\n",
              "    }\n",
              "</style>\n",
              "<table border=\"1\" class=\"dataframe\">\n",
              "  <thead>\n",
              "    <tr style=\"text-align: right;\">\n",
              "      <th></th>\n",
              "      <th>year</th>\n",
              "      <th>carrier</th>\n",
              "      <th>departure_state</th>\n",
              "      <th>arrival_state</th>\n",
              "      <th>departure_delay</th>\n",
              "      <th>departure_over15_delay</th>\n",
              "      <th>arrival_delay</th>\n",
              "      <th>arrival_over15_delay</th>\n",
              "      <th>cancelled</th>\n",
              "      <th>distance</th>\n",
              "    </tr>\n",
              "  </thead>\n",
              "  <tbody>\n",
              "    <tr>\n",
              "      <th>0</th>\n",
              "      <td>2018</td>\n",
              "      <td>EV</td>\n",
              "      <td>Texas</td>\n",
              "      <td>South Carolina</td>\n",
              "      <td>-3.0</td>\n",
              "      <td>0.0</td>\n",
              "      <td>-18.0</td>\n",
              "      <td>0.0</td>\n",
              "      <td>0</td>\n",
              "      <td>878</td>\n",
              "    </tr>\n",
              "    <tr>\n",
              "      <th>1</th>\n",
              "      <td>2018</td>\n",
              "      <td>EV</td>\n",
              "      <td>Texas</td>\n",
              "      <td>South Carolina</td>\n",
              "      <td>-1.0</td>\n",
              "      <td>0.0</td>\n",
              "      <td>-18.0</td>\n",
              "      <td>0.0</td>\n",
              "      <td>0</td>\n",
              "      <td>878</td>\n",
              "    </tr>\n",
              "    <tr>\n",
              "      <th>2</th>\n",
              "      <td>2018</td>\n",
              "      <td>EV</td>\n",
              "      <td>Texas</td>\n",
              "      <td>South Carolina</td>\n",
              "      <td>-5.0</td>\n",
              "      <td>0.0</td>\n",
              "      <td>-17.0</td>\n",
              "      <td>0.0</td>\n",
              "      <td>0</td>\n",
              "      <td>878</td>\n",
              "    </tr>\n",
              "    <tr>\n",
              "      <th>3</th>\n",
              "      <td>2018</td>\n",
              "      <td>EV</td>\n",
              "      <td>Texas</td>\n",
              "      <td>South Carolina</td>\n",
              "      <td>-4.0</td>\n",
              "      <td>0.0</td>\n",
              "      <td>-24.0</td>\n",
              "      <td>0.0</td>\n",
              "      <td>0</td>\n",
              "      <td>878</td>\n",
              "    </tr>\n",
              "    <tr>\n",
              "      <th>4</th>\n",
              "      <td>2018</td>\n",
              "      <td>EV</td>\n",
              "      <td>Texas</td>\n",
              "      <td>South Carolina</td>\n",
              "      <td>-1.0</td>\n",
              "      <td>0.0</td>\n",
              "      <td>-4.0</td>\n",
              "      <td>0.0</td>\n",
              "      <td>0</td>\n",
              "      <td>878</td>\n",
              "    </tr>\n",
              "  </tbody>\n",
              "</table>\n",
              "</div>"
            ],
            "text/plain": [
              "   year carrier departure_state   arrival_state  departure_delay  \\\n",
              "0  2018      EV           Texas  South Carolina             -3.0   \n",
              "1  2018      EV           Texas  South Carolina             -1.0   \n",
              "2  2018      EV           Texas  South Carolina             -5.0   \n",
              "3  2018      EV           Texas  South Carolina             -4.0   \n",
              "4  2018      EV           Texas  South Carolina             -1.0   \n",
              "\n",
              "   departure_over15_delay  arrival_delay  arrival_over15_delay  cancelled  \\\n",
              "0                     0.0          -18.0                   0.0          0   \n",
              "1                     0.0          -18.0                   0.0          0   \n",
              "2                     0.0          -17.0                   0.0          0   \n",
              "3                     0.0          -24.0                   0.0          0   \n",
              "4                     0.0           -4.0                   0.0          0   \n",
              "\n",
              "   distance  \n",
              "0       878  \n",
              "1       878  \n",
              "2       878  \n",
              "3       878  \n",
              "4       878  "
            ]
          },
          "metadata": {
            "tags": []
          },
          "execution_count": 9
        }
      ]
    },
    {
      "cell_type": "code",
      "metadata": {
        "id": "vGaNH-HCdi3W",
        "colab_type": "code",
        "colab": {},
        "outputId": "c9701221-0d05-4c19-9632-b4989aeda8c5"
      },
      "source": [
        "df_all.carrier.unique() # Check the carriers codes found the dataset"
      ],
      "execution_count": null,
      "outputs": [
        {
          "output_type": "execute_result",
          "data": {
            "text/plain": [
              "array(['EV', 'G4', 'MQ', 'OH', 'OO', 'WN', 'YV', 'YX', 'AA', 'DL', 'UA',\n",
              "       '9E', 'AS', 'B6', 'NK', 'HA', 'F9'], dtype=object)"
            ]
          },
          "metadata": {
            "tags": []
          },
          "execution_count": 10
        }
      ]
    },
    {
      "cell_type": "code",
      "metadata": {
        "id": "pbtuUKyHdi3Y",
        "colab_type": "code",
        "colab": {},
        "outputId": "db9cc8ee-eba4-4ddd-9a10-a1278204d58f"
      },
      "source": [
        "df_all.replace({'carrier': {'9E': 'Endeavor Air', \n",
        "                        'AA': 'American Airlines',\n",
        "                        'AS':'Alaska Airlines',\n",
        "                       'B6':'JetBlue Airways',\n",
        "                       'CO':'Continental Air Lines',\n",
        "                       'DH': 'Independence Air',\n",
        "                       'DL':'Delta Air Lines',\n",
        "                       'EA': 'Eastern Air Lines',\n",
        "                       'EV':'ExpressJet Airlines',\n",
        "                       'F9': 'Frontier Airlines',\n",
        "                       'FL': 'AirTran Airways',\n",
        "                       'MQ':'Envoy Air',\n",
        "                       'OH': 'PSA Airlines',\n",
        "                       'OO':'SkyWest Airlines',\n",
        "                       'UA':'United Air Lines',\n",
        "                       'US': 'US Airways',\n",
        "                       'WN':'Southwest Airlines',\n",
        "                       'XE':'ExpressJet Airlines',\n",
        "                       'HA':'Hawaiian Airlines',\n",
        "                       'YV':'Mesa Airlines',\n",
        "                       'VX':'Virgin America',\n",
        "                       'NK':'Spirit Air Lines',\n",
        "                        'G4':'Allegiant Air',\n",
        "                        'YX':'Republic Airline'   }}, inplace=True)\n",
        "df_all.carrier.unique()\n",
        "# Replace each carrier code by its name according to the table here: \"https://www.transtats.bts.gov/FieldInfo.asp?Field_Desc=Unique%20Carrier%20Code.%20When%20the%20same%20code%20has%20been%20used%20by%20multiple%20carriers%2C%20a%20numeric%20suffix%20is%20used%20for%20earlier%20users%2C%20for%20example%2C%20PA%2C%20PA%281%29%2C%20PA%282%29.%20Use%20this%20field%20for%20analysis%20across%20a%20range%20of%20years.&Field_Type=Char&Lookup_Table=L_UNIQUE_CARRIERS&Table_ID=236&SYS_Table_Name=T_ONTIME_REPORTING&Sys_Field_Name=OP_UNIQUE_CARRIER\""
      ],
      "execution_count": null,
      "outputs": [
        {
          "output_type": "execute_result",
          "data": {
            "text/plain": [
              "array(['ExpressJet Airlines', 'Allegiant Air', 'Envoy Air',\n",
              "       'PSA Airlines', 'SkyWest Airlines', 'Southwest Airlines',\n",
              "       'Mesa Airlines', 'Republic Airline', 'American Airlines',\n",
              "       'Delta Air Lines', 'United Air Lines', 'Endeavor Air',\n",
              "       'Alaska Airlines', 'JetBlue Airways', 'Spirit Air Lines',\n",
              "       'Hawaiian Airlines', 'Frontier Airlines'], dtype=object)"
            ]
          },
          "metadata": {
            "tags": []
          },
          "execution_count": 11
        }
      ]
    },
    {
      "cell_type": "code",
      "metadata": {
        "id": "MR8KKPcndi3b",
        "colab_type": "code",
        "colab": {},
        "outputId": "458769b5-3e3d-4891-d3ae-f99a8aa551a1"
      },
      "source": [
        "flights_proportion = []\n",
        "for carr in df_all['carrier'].unique():\n",
        "    flights_count = df_all[(df_all.carrier == carr) & (df_all.year != 2020) ].shape[0]\n",
        "    proportion = flights_count/df_all.query('year != 2020').shape[0] * 100\n",
        "    \n",
        "    flights_proportion.append({'carrier':carr, 'proportion':proportion }) \n",
        "\n",
        "data_proportion = pd.DataFrame(flights_proportion)\n",
        "data_proportion\n",
        "# Construct DataFrame that contains each carrier (airline) flights proportion over the last 2 years (2018,2019)\n",
        "#by finding the total number of the carrier flights over the total flights"
      ],
      "execution_count": null,
      "outputs": [
        {
          "output_type": "execute_result",
          "data": {
            "text/html": [
              "<div>\n",
              "<style scoped>\n",
              "    .dataframe tbody tr th:only-of-type {\n",
              "        vertical-align: middle;\n",
              "    }\n",
              "\n",
              "    .dataframe tbody tr th {\n",
              "        vertical-align: top;\n",
              "    }\n",
              "\n",
              "    .dataframe thead th {\n",
              "        text-align: right;\n",
              "    }\n",
              "</style>\n",
              "<table border=\"1\" class=\"dataframe\">\n",
              "  <thead>\n",
              "    <tr style=\"text-align: right;\">\n",
              "      <th></th>\n",
              "      <th>carrier</th>\n",
              "      <th>proportion</th>\n",
              "    </tr>\n",
              "  </thead>\n",
              "  <tbody>\n",
              "    <tr>\n",
              "      <th>0</th>\n",
              "      <td>ExpressJet Airlines</td>\n",
              "      <td>2.071243</td>\n",
              "    </tr>\n",
              "    <tr>\n",
              "      <th>1</th>\n",
              "      <td>Allegiant Air</td>\n",
              "      <td>1.361141</td>\n",
              "    </tr>\n",
              "    <tr>\n",
              "      <th>2</th>\n",
              "      <td>Envoy Air</td>\n",
              "      <td>4.322626</td>\n",
              "    </tr>\n",
              "    <tr>\n",
              "      <th>3</th>\n",
              "      <td>PSA Airlines</td>\n",
              "      <td>3.883092</td>\n",
              "    </tr>\n",
              "    <tr>\n",
              "      <th>4</th>\n",
              "      <td>SkyWest Airlines</td>\n",
              "      <td>10.950269</td>\n",
              "    </tr>\n",
              "    <tr>\n",
              "      <th>5</th>\n",
              "      <td>Southwest Airlines</td>\n",
              "      <td>18.732097</td>\n",
              "    </tr>\n",
              "    <tr>\n",
              "      <th>6</th>\n",
              "      <td>Mesa Airlines</td>\n",
              "      <td>2.989818</td>\n",
              "    </tr>\n",
              "    <tr>\n",
              "      <th>7</th>\n",
              "      <td>Republic Airline</td>\n",
              "      <td>4.433247</td>\n",
              "    </tr>\n",
              "    <tr>\n",
              "      <th>8</th>\n",
              "      <td>American Airlines</td>\n",
              "      <td>12.740089</td>\n",
              "    </tr>\n",
              "    <tr>\n",
              "      <th>9</th>\n",
              "      <td>Delta Air Lines</td>\n",
              "      <td>13.353936</td>\n",
              "    </tr>\n",
              "    <tr>\n",
              "      <th>10</th>\n",
              "      <td>United Air Lines</td>\n",
              "      <td>8.554104</td>\n",
              "    </tr>\n",
              "    <tr>\n",
              "      <th>11</th>\n",
              "      <td>Endeavor Air</td>\n",
              "      <td>3.365820</td>\n",
              "    </tr>\n",
              "    <tr>\n",
              "      <th>12</th>\n",
              "      <td>Alaska Airlines</td>\n",
              "      <td>3.634792</td>\n",
              "    </tr>\n",
              "    <tr>\n",
              "      <th>13</th>\n",
              "      <td>JetBlue Airways</td>\n",
              "      <td>4.108805</td>\n",
              "    </tr>\n",
              "    <tr>\n",
              "      <th>14</th>\n",
              "      <td>Spirit Air Lines</td>\n",
              "      <td>2.629380</td>\n",
              "    </tr>\n",
              "    <tr>\n",
              "      <th>15</th>\n",
              "      <td>Hawaiian Airlines</td>\n",
              "      <td>1.139180</td>\n",
              "    </tr>\n",
              "    <tr>\n",
              "      <th>16</th>\n",
              "      <td>Frontier Airlines</td>\n",
              "      <td>1.730359</td>\n",
              "    </tr>\n",
              "  </tbody>\n",
              "</table>\n",
              "</div>"
            ],
            "text/plain": [
              "                carrier  proportion\n",
              "0   ExpressJet Airlines    2.071243\n",
              "1         Allegiant Air    1.361141\n",
              "2             Envoy Air    4.322626\n",
              "3          PSA Airlines    3.883092\n",
              "4      SkyWest Airlines   10.950269\n",
              "5    Southwest Airlines   18.732097\n",
              "6         Mesa Airlines    2.989818\n",
              "7      Republic Airline    4.433247\n",
              "8     American Airlines   12.740089\n",
              "9       Delta Air Lines   13.353936\n",
              "10     United Air Lines    8.554104\n",
              "11         Endeavor Air    3.365820\n",
              "12      Alaska Airlines    3.634792\n",
              "13      JetBlue Airways    4.108805\n",
              "14     Spirit Air Lines    2.629380\n",
              "15    Hawaiian Airlines    1.139180\n",
              "16    Frontier Airlines    1.730359"
            ]
          },
          "metadata": {
            "tags": []
          },
          "execution_count": 12
        }
      ]
    },
    {
      "cell_type": "code",
      "metadata": {
        "id": "RZno9tFsdi3c",
        "colab_type": "code",
        "colab": {}
      },
      "source": [
        "#  Sort by flights proportion descendingly\n",
        "data_proportion = data_proportion.sort_values(by='proportion', ascending=False)"
      ],
      "execution_count": null,
      "outputs": []
    },
    {
      "cell_type": "code",
      "metadata": {
        "id": "3xHqIuuBdi3e",
        "colab_type": "code",
        "colab": {},
        "outputId": "96250c10-16ba-4262-ca78-255fb3776747"
      },
      "source": [
        "plt.figure(figsize=(9,8))\n",
        "sb.barplot(data=data_proportion ,y= 'carrier', x='proportion', color=sb.color_palette()[0], zorder=2)\n",
        "plt.grid(axis='x', zorder=0)\n",
        "#Visualize the flights proprtions\n",
        "# Find the  carriers with the flights proportion more than or equal to 10%\n",
        "# Result is ['Southwest Airlines', 'Delta Air Lines', 'American Airlines', 'SkyWest Airlines']"
      ],
      "execution_count": null,
      "outputs": [
        {
          "output_type": "display_data",
          "data": {
            "image/png": "[encoded data removed]",
            "text/plain": [
              "<Figure size 648x576 with 1 Axes>"
            ]
          },
          "metadata": {
            "tags": [],
            "needs_background": "light"
          }
        }
      ]
    },
    {
      "cell_type": "code",
      "metadata": {
        "id": "zuMVbbWhdi3g",
        "colab_type": "code",
        "colab": {},
        "outputId": "ef7047c2-f4bb-437f-a25d-bb0002413a18"
      },
      "source": [
        "selected_carriers = data_proportion.carrier[:4].tolist()\n",
        "selected_carriers\n",
        "# Select the top 4 airlined and sve then into the list `selected_carriers`"
      ],
      "execution_count": null,
      "outputs": [
        {
          "output_type": "execute_result",
          "data": {
            "text/plain": [
              "['Southwest Airlines',\n",
              " 'Delta Air Lines',\n",
              " 'American Airlines',\n",
              " 'SkyWest Airlines']"
            ]
          },
          "metadata": {
            "tags": []
          },
          "execution_count": 15
        }
      ]
    },
    {
      "cell_type": "code",
      "metadata": {
        "id": "H9sAGM0jdi3i",
        "colab_type": "code",
        "colab": {},
        "outputId": "9f66cb30-4344-4ae8-8162-d525a25b9ab8"
      },
      "source": [
        "df_all = df_all[df_all.carrier.isin(selected_carriers)]\n",
        "df_all.carrier.unique()\n",
        "# Remove all records other than the top 4 carriers related ones"
      ],
      "execution_count": null,
      "outputs": [
        {
          "output_type": "execute_result",
          "data": {
            "text/plain": [
              "array(['SkyWest Airlines', 'Southwest Airlines', 'American Airlines',\n",
              "       'Delta Air Lines'], dtype=object)"
            ]
          },
          "metadata": {
            "tags": []
          },
          "execution_count": 16
        }
      ]
    },
    {
      "cell_type": "code",
      "metadata": {
        "id": "RZDEbJsxdi3k",
        "colab_type": "code",
        "colab": {},
        "outputId": "7aca4d1c-3930-4551-fa54-99d6b7b1bc32"
      },
      "source": [
        "order_list = selected_carriers\n",
        "catigories = pd.api.types.CategoricalDtype(ordered=True, categories=order_list)\n",
        "df_all['carrier'] = df_all['carrier'].astype(catigories) \n",
        "df_all['carrier'].unique()\n",
        "# Change the `carrier` column type to order the airlines from most to least"
      ],
      "execution_count": null,
      "outputs": [
        {
          "output_type": "execute_result",
          "data": {
            "text/plain": [
              "[SkyWest Airlines, Southwest Airlines, American Airlines, Delta Air Lines]\n",
              "Categories (4, object): [Southwest Airlines < Delta Air Lines < American Airlines < SkyWest Airlines]"
            ]
          },
          "metadata": {
            "tags": []
          },
          "execution_count": 17
        }
      ]
    },
    {
      "cell_type": "code",
      "metadata": {
        "id": "_JD7KFKXdi3m",
        "colab_type": "code",
        "colab": {}
      },
      "source": [
        "def plotNull(df):\n",
        "    columns = []\n",
        "    nulls_count = []\n",
        "    for col in df.columns:\n",
        "        columns.append(col)\n",
        "        nulls_count.append(df[col].isna().sum())\n",
        "    sb.barplot(x=nulls_count, y=columns)    \n",
        "#Iterate over all columns to find nulls in each"
      ],
      "execution_count": null,
      "outputs": []
    },
    {
      "cell_type": "code",
      "metadata": {
        "id": "PW2vhWtTdi3o",
        "colab_type": "code",
        "colab": {},
        "outputId": "07f6dac7-7338-47da-b01a-b3b187ec4a1c"
      },
      "source": [
        "plotNull(df_all)\n",
        "# Each column's null values count."
      ],
      "execution_count": null,
      "outputs": [
        {
          "output_type": "display_data",
          "data": {
            "image/png": "[encoded data removed]",
            "text/plain": [
              "<Figure size 432x288 with 1 Axes>"
            ]
          },
          "metadata": {
            "tags": [],
            "needs_background": "light"
          }
        }
      ]
    },
    {
      "cell_type": "code",
      "metadata": {
        "id": "Mt4f4Gn9di3q",
        "colab_type": "code",
        "colab": {},
        "outputId": "e5fb692e-b0a7-4a4a-9c3b-d4e98cd2664b"
      },
      "source": [
        "# Most of the nulls are related to canceled flights. The few remainings are considered as invlaid records \n",
        "# Create dataset that contains the cancelled flights `df_cancelled` and reset it's index.\n",
        "df_canelled = df_all[(df_all.cancelled == 1 )]\n",
        "df_canelled.reset_index(drop=True,inplace=True)\n",
        "df_canelled.to_csv('cancelled flights.csv', index=False)\n",
        "df_canelled.info()"
      ],
      "execution_count": null,
      "outputs": [
        {
          "output_type": "stream",
          "text": [
            "<class 'pandas.core.frame.DataFrame'>\n",
            "RangeIndex: 15556 entries, 0 to 15555\n",
            "Data columns (total 10 columns):\n",
            " #   Column                  Non-Null Count  Dtype   \n",
            "---  ------                  --------------  -----   \n",
            " 0   year                    15556 non-null  int64   \n",
            " 1   carrier                 15556 non-null  category\n",
            " 2   departure_state         15556 non-null  object  \n",
            " 3   arrival_state           15556 non-null  object  \n",
            " 4   departure_delay         363 non-null    float64 \n",
            " 5   departure_over15_delay  363 non-null    float64 \n",
            " 6   arrival_delay           0 non-null      float64 \n",
            " 7   arrival_over15_delay    0 non-null      float64 \n",
            " 8   cancelled               15556 non-null  int64   \n",
            " 9   distance                15556 non-null  int64   \n",
            "dtypes: category(1), float64(4), int64(3), object(2)\n",
            "memory usage: 1.1+ MB\n"
          ],
          "name": "stdout"
        }
      ]
    },
    {
      "cell_type": "code",
      "metadata": {
        "id": "cBydGN_ndi3r",
        "colab_type": "code",
        "colab": {},
        "outputId": "744e43d1-dfff-4221-d23f-943fc15148c8"
      },
      "source": [
        "# Drop all records with nulls and reset index. We are sure now all records in df_all refer to completed flights (no one canclled)\n",
        "df_all.dropna(inplace=True)\n",
        "df_all.reset_index(drop=True,inplace=True)\n",
        "plotNull(df_all)"
      ],
      "execution_count": null,
      "outputs": [
        {
          "output_type": "display_data",
          "data": {
            "image/png": "[encoded data removed]",
            "text/plain": [
              "<Figure size 432x288 with 1 Axes>"
            ]
          },
          "metadata": {
            "tags": [],
            "needs_background": "light"
          }
        }
      ]
    },
    {
      "cell_type": "code",
      "metadata": {
        "id": "oWfU4BxWdi3t",
        "colab_type": "code",
        "colab": {},
        "outputId": "66dc0cd5-53f5-45f8-cf13-2391699f5092"
      },
      "source": [
        "df_all.info()"
      ],
      "execution_count": null,
      "outputs": [
        {
          "output_type": "stream",
          "text": [
            "<class 'pandas.core.frame.DataFrame'>\n",
            "RangeIndex: 791395 entries, 0 to 791394\n",
            "Data columns (total 10 columns):\n",
            " #   Column                  Non-Null Count   Dtype   \n",
            "---  ------                  --------------   -----   \n",
            " 0   year                    791395 non-null  int64   \n",
            " 1   carrier                 791395 non-null  category\n",
            " 2   departure_state         791395 non-null  object  \n",
            " 3   arrival_state           791395 non-null  object  \n",
            " 4   departure_delay         791395 non-null  float64 \n",
            " 5   departure_over15_delay  791395 non-null  float64 \n",
            " 6   arrival_delay           791395 non-null  float64 \n",
            " 7   arrival_over15_delay    791395 non-null  float64 \n",
            " 8   cancelled               791395 non-null  int64   \n",
            " 9   distance                791395 non-null  int64   \n",
            "dtypes: category(1), float64(4), int64(3), object(2)\n",
            "memory usage: 55.1+ MB\n"
          ],
          "name": "stdout"
        }
      ]
    },
    {
      "cell_type": "code",
      "metadata": {
        "id": "SPUHxPMzdi3v",
        "colab_type": "code",
        "colab": {}
      },
      "source": [
        "df_all.to_csv('all_flights.csv',index=False)"
      ],
      "execution_count": null,
      "outputs": []
    },
    {
      "cell_type": "code",
      "metadata": {
        "id": "8CLk6s67di30",
        "colab_type": "code",
        "colab": {},
        "outputId": "596f98b1-d063-4c0e-b5db-97cac8bb38cb"
      },
      "source": [
        "df = df_all.copy()\n",
        "# Create a copy from the original dataset to work on\n",
        "df.head()"
      ],
      "execution_count": null,
      "outputs": [
        {
          "output_type": "execute_result",
          "data": {
            "text/html": [
              "<div>\n",
              "<style scoped>\n",
              "    .dataframe tbody tr th:only-of-type {\n",
              "        vertical-align: middle;\n",
              "    }\n",
              "\n",
              "    .dataframe tbody tr th {\n",
              "        vertical-align: top;\n",
              "    }\n",
              "\n",
              "    .dataframe thead th {\n",
              "        text-align: right;\n",
              "    }\n",
              "</style>\n",
              "<table border=\"1\" class=\"dataframe\">\n",
              "  <thead>\n",
              "    <tr style=\"text-align: right;\">\n",
              "      <th></th>\n",
              "      <th>year</th>\n",
              "      <th>carrier</th>\n",
              "      <th>departure_state</th>\n",
              "      <th>arrival_state</th>\n",
              "      <th>departure_delay</th>\n",
              "      <th>departure_over15_delay</th>\n",
              "      <th>arrival_delay</th>\n",
              "      <th>arrival_over15_delay</th>\n",
              "      <th>cancelled</th>\n",
              "      <th>distance</th>\n",
              "    </tr>\n",
              "  </thead>\n",
              "  <tbody>\n",
              "    <tr>\n",
              "      <th>0</th>\n",
              "      <td>2018</td>\n",
              "      <td>SkyWest Airlines</td>\n",
              "      <td>North Dakota</td>\n",
              "      <td>Minnesota</td>\n",
              "      <td>-2.0</td>\n",
              "      <td>0.0</td>\n",
              "      <td>1.0</td>\n",
              "      <td>0.0</td>\n",
              "      <td>0</td>\n",
              "      <td>223</td>\n",
              "    </tr>\n",
              "    <tr>\n",
              "      <th>1</th>\n",
              "      <td>2018</td>\n",
              "      <td>SkyWest Airlines</td>\n",
              "      <td>Minnesota</td>\n",
              "      <td>North Dakota</td>\n",
              "      <td>-7.0</td>\n",
              "      <td>0.0</td>\n",
              "      <td>4.0</td>\n",
              "      <td>0.0</td>\n",
              "      <td>0</td>\n",
              "      <td>223</td>\n",
              "    </tr>\n",
              "    <tr>\n",
              "      <th>2</th>\n",
              "      <td>2018</td>\n",
              "      <td>SkyWest Airlines</td>\n",
              "      <td>Minnesota</td>\n",
              "      <td>New Jersey</td>\n",
              "      <td>14.0</td>\n",
              "      <td>0.0</td>\n",
              "      <td>12.0</td>\n",
              "      <td>0.0</td>\n",
              "      <td>0</td>\n",
              "      <td>1008</td>\n",
              "    </tr>\n",
              "    <tr>\n",
              "      <th>3</th>\n",
              "      <td>2018</td>\n",
              "      <td>SkyWest Airlines</td>\n",
              "      <td>California</td>\n",
              "      <td>Utah</td>\n",
              "      <td>-9.0</td>\n",
              "      <td>0.0</td>\n",
              "      <td>-13.0</td>\n",
              "      <td>0.0</td>\n",
              "      <td>0</td>\n",
              "      <td>541</td>\n",
              "    </tr>\n",
              "    <tr>\n",
              "      <th>4</th>\n",
              "      <td>2018</td>\n",
              "      <td>SkyWest Airlines</td>\n",
              "      <td>Utah</td>\n",
              "      <td>California</td>\n",
              "      <td>-3.0</td>\n",
              "      <td>0.0</td>\n",
              "      <td>-5.0</td>\n",
              "      <td>0.0</td>\n",
              "      <td>0</td>\n",
              "      <td>541</td>\n",
              "    </tr>\n",
              "  </tbody>\n",
              "</table>\n",
              "</div>"
            ],
            "text/plain": [
              "   year           carrier departure_state arrival_state  departure_delay  \\\n",
              "0  2018  SkyWest Airlines    North Dakota     Minnesota             -2.0   \n",
              "1  2018  SkyWest Airlines       Minnesota  North Dakota             -7.0   \n",
              "2  2018  SkyWest Airlines       Minnesota    New Jersey             14.0   \n",
              "3  2018  SkyWest Airlines      California          Utah             -9.0   \n",
              "4  2018  SkyWest Airlines            Utah    California             -3.0   \n",
              "\n",
              "   departure_over15_delay  arrival_delay  arrival_over15_delay  cancelled  \\\n",
              "0                     0.0            1.0                   0.0          0   \n",
              "1                     0.0            4.0                   0.0          0   \n",
              "2                     0.0           12.0                   0.0          0   \n",
              "3                     0.0          -13.0                   0.0          0   \n",
              "4                     0.0           -5.0                   0.0          0   \n",
              "\n",
              "   distance  \n",
              "0       223  \n",
              "1       223  \n",
              "2      1008  \n",
              "3       541  \n",
              "4       541  "
            ]
          },
          "metadata": {
            "tags": []
          },
          "execution_count": 24
        }
      ]
    },
    {
      "cell_type": "code",
      "metadata": {
        "id": "TFBN-Ywrdi32",
        "colab_type": "code",
        "colab": {},
        "outputId": "cbbfd0b7-3005-4751-fc27-bbc5f9e72810"
      },
      "source": [
        "df.describe()"
      ],
      "execution_count": null,
      "outputs": [
        {
          "output_type": "execute_result",
          "data": {
            "text/html": [
              "<div>\n",
              "<style scoped>\n",
              "    .dataframe tbody tr th:only-of-type {\n",
              "        vertical-align: middle;\n",
              "    }\n",
              "\n",
              "    .dataframe tbody tr th {\n",
              "        vertical-align: top;\n",
              "    }\n",
              "\n",
              "    .dataframe thead th {\n",
              "        text-align: right;\n",
              "    }\n",
              "</style>\n",
              "<table border=\"1\" class=\"dataframe\">\n",
              "  <thead>\n",
              "    <tr style=\"text-align: right;\">\n",
              "      <th></th>\n",
              "      <th>year</th>\n",
              "      <th>departure_delay</th>\n",
              "      <th>departure_over15_delay</th>\n",
              "      <th>arrival_delay</th>\n",
              "      <th>arrival_over15_delay</th>\n",
              "      <th>cancelled</th>\n",
              "      <th>distance</th>\n",
              "    </tr>\n",
              "  </thead>\n",
              "  <tbody>\n",
              "    <tr>\n",
              "      <th>count</th>\n",
              "      <td>791395.000000</td>\n",
              "      <td>791395.000000</td>\n",
              "      <td>791395.000000</td>\n",
              "      <td>791395.000000</td>\n",
              "      <td>791395.00000</td>\n",
              "      <td>791395.0</td>\n",
              "      <td>791395.000000</td>\n",
              "    </tr>\n",
              "    <tr>\n",
              "      <th>mean</th>\n",
              "      <td>2018.706924</td>\n",
              "      <td>9.753274</td>\n",
              "      <td>0.179575</td>\n",
              "      <td>3.693081</td>\n",
              "      <td>0.17442</td>\n",
              "      <td>0.0</td>\n",
              "      <td>779.127595</td>\n",
              "    </tr>\n",
              "    <tr>\n",
              "      <th>std</th>\n",
              "      <td>0.688802</td>\n",
              "      <td>43.141968</td>\n",
              "      <td>0.383834</td>\n",
              "      <td>45.470898</td>\n",
              "      <td>0.37947</td>\n",
              "      <td>0.0</td>\n",
              "      <td>548.061746</td>\n",
              "    </tr>\n",
              "    <tr>\n",
              "      <th>min</th>\n",
              "      <td>2018.000000</td>\n",
              "      <td>-54.000000</td>\n",
              "      <td>0.000000</td>\n",
              "      <td>-81.000000</td>\n",
              "      <td>0.00000</td>\n",
              "      <td>0.0</td>\n",
              "      <td>29.000000</td>\n",
              "    </tr>\n",
              "    <tr>\n",
              "      <th>25%</th>\n",
              "      <td>2018.000000</td>\n",
              "      <td>-5.000000</td>\n",
              "      <td>0.000000</td>\n",
              "      <td>-15.000000</td>\n",
              "      <td>0.00000</td>\n",
              "      <td>0.0</td>\n",
              "      <td>371.000000</td>\n",
              "    </tr>\n",
              "    <tr>\n",
              "      <th>50%</th>\n",
              "      <td>2019.000000</td>\n",
              "      <td>-2.000000</td>\n",
              "      <td>0.000000</td>\n",
              "      <td>-7.000000</td>\n",
              "      <td>0.00000</td>\n",
              "      <td>0.0</td>\n",
              "      <td>627.000000</td>\n",
              "    </tr>\n",
              "    <tr>\n",
              "      <th>75%</th>\n",
              "      <td>2019.000000</td>\n",
              "      <td>7.000000</td>\n",
              "      <td>0.000000</td>\n",
              "      <td>6.000000</td>\n",
              "      <td>0.00000</td>\n",
              "      <td>0.0</td>\n",
              "      <td>1017.000000</td>\n",
              "    </tr>\n",
              "    <tr>\n",
              "      <th>max</th>\n",
              "      <td>2020.000000</td>\n",
              "      <td>2105.000000</td>\n",
              "      <td>1.000000</td>\n",
              "      <td>2093.000000</td>\n",
              "      <td>1.00000</td>\n",
              "      <td>0.0</td>\n",
              "      <td>4502.000000</td>\n",
              "    </tr>\n",
              "  </tbody>\n",
              "</table>\n",
              "</div>"
            ],
            "text/plain": [
              "                year  departure_delay  departure_over15_delay  arrival_delay  \\\n",
              "count  791395.000000    791395.000000           791395.000000  791395.000000   \n",
              "mean     2018.706924         9.753274                0.179575       3.693081   \n",
              "std         0.688802        43.141968                0.383834      45.470898   \n",
              "min      2018.000000       -54.000000                0.000000     -81.000000   \n",
              "25%      2018.000000        -5.000000                0.000000     -15.000000   \n",
              "50%      2019.000000        -2.000000                0.000000      -7.000000   \n",
              "75%      2019.000000         7.000000                0.000000       6.000000   \n",
              "max      2020.000000      2105.000000                1.000000    2093.000000   \n",
              "\n",
              "       arrival_over15_delay  cancelled       distance  \n",
              "count          791395.00000   791395.0  791395.000000  \n",
              "mean                0.17442        0.0     779.127595  \n",
              "std                 0.37947        0.0     548.061746  \n",
              "min                 0.00000        0.0      29.000000  \n",
              "25%                 0.00000        0.0     371.000000  \n",
              "50%                 0.00000        0.0     627.000000  \n",
              "75%                 0.00000        0.0    1017.000000  \n",
              "max                 1.00000        0.0    4502.000000  "
            ]
          },
          "metadata": {
            "tags": []
          },
          "execution_count": 25
        }
      ]
    },
    {
      "cell_type": "markdown",
      "metadata": {
        "id": "U7Ff54Rwdi34",
        "colab_type": "text"
      },
      "source": [
        "## Univariate Exploration"
      ]
    },
    {
      "cell_type": "code",
      "metadata": {
        "id": "VtLKQuUFdi35",
        "colab_type": "code",
        "colab": {}
      },
      "source": [
        "def plotDelayHist(x='',bins=np.arange(0,2105+60,60), ylog=False):\n",
        "   \n",
        "   delay_df = df[df[x] >= 0]\n",
        "   g = sb.FacetGrid(data= delay_df, col='year')\n",
        "   g.map(plt.hist,x,bins=bins,edgecolor='w')\n",
        "  \n",
        "   if (ylog):\n",
        "     g.set(yscale=('log'))\n",
        "     y_max=1000000\n",
        "     ticks = [y_max/100000,y_max/10000, y_max/1000, y_max/100, y_max/10, y_max] \n",
        "     g.set(yticks = ticks, yticklabels=ticks)   \n",
        "   g.set(ylabel='Flights Count')  \n",
        "# Draw multi-histograms using `seaborn` library and apply log scale on y axis to visualize the data better         "
      ],
      "execution_count": null,
      "outputs": []
    },
    {
      "cell_type": "markdown",
      "metadata": {
        "id": "z7u9PIVcdi36",
        "colab_type": "text"
      },
      "source": [
        "### Q1: How do the delay durations distributed on may among the three years ?"
      ]
    },
    {
      "cell_type": "code",
      "metadata": {
        "id": "OT4_5m8udi37",
        "colab_type": "code",
        "colab": {},
        "outputId": "06ffdb87-156a-44c6-de23-31c51465f0e0"
      },
      "source": [
        "plotDelayHist(x='departure_delay', ylog=True)\n",
        "# each bin refers to 60 minutes delay (0-59),(60-119) ...etc. the bin height represent the number of flights with delay falls in the bin's interval"
      ],
      "execution_count": null,
      "outputs": [
        {
          "output_type": "display_data",
          "data": {
            "image/png": "[encoded data removed]",
            "text/plain": [
              "<Figure size 648x216 with 3 Axes>"
            ]
          },
          "metadata": {
            "tags": [],
            "needs_background": "light"
          }
        }
      ]
    },
    {
      "cell_type": "markdown",
      "metadata": {
        "id": "A-CYFzo3di38",
        "colab_type": "text"
      },
      "source": [
        ">#### The delay on departure seems to be skewed to the right with most flights fall in [0,59] minutes interval. However, the year 2020 had less overall flights count and delay durations, accordingly."
      ]
    },
    {
      "cell_type": "code",
      "metadata": {
        "id": "xICaOwW3di39",
        "colab_type": "code",
        "colab": {},
        "outputId": "114f6da2-5b69-4aa4-9fc7-e41fd999ff3e"
      },
      "source": [
        "plotDelayHist(x='arrival_delay', ylog=True)\n",
        "# each bin refers to 60 minutes delay (0-59),(60-119) ...etc. the bin height represent the number of flights with delay falls in the bin's interval"
      ],
      "execution_count": null,
      "outputs": [
        {
          "output_type": "display_data",
          "data": {
            "image/png": "[encoded data removed]",
            "text/plain": [
              "<Figure size 648x216 with 3 Axes>"
            ]
          },
          "metadata": {
            "tags": [],
            "needs_background": "light"
          }
        }
      ]
    },
    {
      "cell_type": "markdown",
      "metadata": {
        "id": "GKW14zBUdi3-",
        "colab_type": "text"
      },
      "source": [
        "> #### The delay on arrival seems also to be skewed to the right with most flights fall in [0,59] minutes interval. However, the year 2020 had less overall flights count and delay durations, accordingly. Consequently, the flights delayed on departure would have almost the same amount of delay on arrival."
      ]
    },
    {
      "cell_type": "markdown",
      "metadata": {
        "id": "do7eKm7fdi3_",
        "colab_type": "text"
      },
      "source": [
        "### Discuss the distribution(s) of your variable(s) of interest. Were there any unusual points? Did you need to perform any transformations?\n",
        "\n",
        "> The delay duration is skewed to the right (on both departure and arrival). Transformation is applied to the count axis (y-axis) to make the plot more clear. Interestingly, There are delays below 2000 minutes in 2018 and 2019. However, in 2020 some flights delayed more! \n",
        "\n",
        "### Of the features you investigated, were there any unusual distributions? Did you perform any operations on the data to tidy, adjust, or change the form of the data? If so, why did you do this?\n",
        "\n",
        "> Data is already assessed and cleaned to be tidy. The distribution is almost usual but there are some outliers that refer to huge delay which is a bad indication about the carrier."
      ]
    },
    {
      "cell_type": "markdown",
      "metadata": {
        "id": "8qYlqpPUdi3_",
        "colab_type": "text"
      },
      "source": [
        "## Bivariate Exploration\n",
        "\n",
        " ###  Q2.1: What is the relation between the traveled distance and delay on departure?"
      ]
    },
    {
      "cell_type": "code",
      "metadata": {
        "id": "w0rDbzrZdi3_",
        "colab_type": "code",
        "colab": {},
        "outputId": "b6a1b4d3-1286-42f0-fda1-87082a6cd440"
      },
      "source": [
        "from matplotlib.ticker import StrMethodFormatter\n",
        "\n",
        "ylog = np.log10(df[df.departure_delay>0].distance)\n",
        "xlog = np.log10(df[df.departure_delay>0].departure_delay)\n",
        "plt.scatter( x=xlog, y=ylog, alpha=1/100)\n",
        "\n",
        "\n",
        "locs, labels = plt.yticks()\n",
        "print(locs)\n",
        "# plt.xticks(np.arange(0,4,1), 10**np.arange(0,4,1));\n",
        "plt.yticks(np.log10(np.arange(500,5000,500)), np.arange(500,5000,500));\n",
        "locs = np.array([1,2,3,np.log10(3000)])\n",
        "plt.yticks(locs, (10**locs).astype('int32'));\n",
        "plt.xticks(locs, (10**locs).astype('int32'));\n",
        "plt.xlabel('Delay Duration (min)(on departure)')\n",
        "plt.ylabel('Distance traveled (miles)')\n",
        "# Plot distance VS delay duration (on departure) with applying log10 transformation on both axes and transparency effect"
      ],
      "execution_count": null,
      "outputs": [
        {
          "output_type": "stream",
          "text": [
            "[1.  1.5 2.  2.5 3.  3.5 4. ]\n"
          ],
          "name": "stdout"
        },
        {
          "output_type": "execute_result",
          "data": {
            "text/plain": [
              "Text(0, 0.5, 'Distance traveled (miles)')"
            ]
          },
          "metadata": {
            "tags": []
          },
          "execution_count": 29
        },
        {
          "output_type": "display_data",
          "data": {
            "image/png": "[encoded data removed]",
            "text/plain": [
              "<Figure size 432x288 with 1 Axes>"
            ]
          },
          "metadata": {
            "tags": [],
            "needs_background": "light"
          }
        }
      ]
    },
    {
      "cell_type": "markdown",
      "metadata": {
        "id": "z4iRvEaXdi4C",
        "colab_type": "text"
      },
      "source": [
        "> #### As shown, the relation between the delay on departure and the distance traveled seems to be overlaped in the center. That means most of departure delays fall in the interval [0,500] (in minutes) and appear on the flights with traveled distance between 100 and 3000 miles."
      ]
    },
    {
      "cell_type": "markdown",
      "metadata": {
        "id": "2zxS1nbLdi4C",
        "colab_type": "text"
      },
      "source": [
        " ###  Q2.2: How does the cancellation rate changed over the 3 years (especially after COVID-19) ?"
      ]
    },
    {
      "cell_type": "code",
      "metadata": {
        "id": "gZnoJppmdi4D",
        "colab_type": "code",
        "colab": {},
        "outputId": "f05ec96b-2a71-4a8d-d638-99e5bb229de4"
      },
      "source": [
        "# Now we will work on the cancelled flights (df_canelled)\n",
        "df_canelled"
      ],
      "execution_count": null,
      "outputs": [
        {
          "output_type": "execute_result",
          "data": {
            "text/html": [
              "<div>\n",
              "<style scoped>\n",
              "    .dataframe tbody tr th:only-of-type {\n",
              "        vertical-align: middle;\n",
              "    }\n",
              "\n",
              "    .dataframe tbody tr th {\n",
              "        vertical-align: top;\n",
              "    }\n",
              "\n",
              "    .dataframe thead th {\n",
              "        text-align: right;\n",
              "    }\n",
              "</style>\n",
              "<table border=\"1\" class=\"dataframe\">\n",
              "  <thead>\n",
              "    <tr style=\"text-align: right;\">\n",
              "      <th></th>\n",
              "      <th>year</th>\n",
              "      <th>carrier</th>\n",
              "      <th>departure_state</th>\n",
              "      <th>arrival_state</th>\n",
              "      <th>departure_delay</th>\n",
              "      <th>departure_over15_delay</th>\n",
              "      <th>arrival_delay</th>\n",
              "      <th>arrival_over15_delay</th>\n",
              "      <th>cancelled</th>\n",
              "      <th>distance</th>\n",
              "    </tr>\n",
              "  </thead>\n",
              "  <tbody>\n",
              "    <tr>\n",
              "      <th>0</th>\n",
              "      <td>2018</td>\n",
              "      <td>SkyWest Airlines</td>\n",
              "      <td>Illinois</td>\n",
              "      <td>Michigan</td>\n",
              "      <td>NaN</td>\n",
              "      <td>NaN</td>\n",
              "      <td>NaN</td>\n",
              "      <td>NaN</td>\n",
              "      <td>1</td>\n",
              "      <td>235</td>\n",
              "    </tr>\n",
              "    <tr>\n",
              "      <th>1</th>\n",
              "      <td>2018</td>\n",
              "      <td>SkyWest Airlines</td>\n",
              "      <td>Illinois</td>\n",
              "      <td>Tennessee</td>\n",
              "      <td>-6.0</td>\n",
              "      <td>0.0</td>\n",
              "      <td>NaN</td>\n",
              "      <td>NaN</td>\n",
              "      <td>1</td>\n",
              "      <td>409</td>\n",
              "    </tr>\n",
              "    <tr>\n",
              "      <th>2</th>\n",
              "      <td>2018</td>\n",
              "      <td>SkyWest Airlines</td>\n",
              "      <td>Tennessee</td>\n",
              "      <td>Illinois</td>\n",
              "      <td>NaN</td>\n",
              "      <td>NaN</td>\n",
              "      <td>NaN</td>\n",
              "      <td>NaN</td>\n",
              "      <td>1</td>\n",
              "      <td>409</td>\n",
              "    </tr>\n",
              "    <tr>\n",
              "      <th>3</th>\n",
              "      <td>2018</td>\n",
              "      <td>SkyWest Airlines</td>\n",
              "      <td>Illinois</td>\n",
              "      <td>Tennessee</td>\n",
              "      <td>54.0</td>\n",
              "      <td>1.0</td>\n",
              "      <td>NaN</td>\n",
              "      <td>NaN</td>\n",
              "      <td>1</td>\n",
              "      <td>409</td>\n",
              "    </tr>\n",
              "    <tr>\n",
              "      <th>4</th>\n",
              "      <td>2018</td>\n",
              "      <td>SkyWest Airlines</td>\n",
              "      <td>Illinois</td>\n",
              "      <td>Illinois</td>\n",
              "      <td>NaN</td>\n",
              "      <td>NaN</td>\n",
              "      <td>NaN</td>\n",
              "      <td>NaN</td>\n",
              "      <td>1</td>\n",
              "      <td>130</td>\n",
              "    </tr>\n",
              "    <tr>\n",
              "      <th>...</th>\n",
              "      <td>...</td>\n",
              "      <td>...</td>\n",
              "      <td>...</td>\n",
              "      <td>...</td>\n",
              "      <td>...</td>\n",
              "      <td>...</td>\n",
              "      <td>...</td>\n",
              "      <td>...</td>\n",
              "      <td>...</td>\n",
              "      <td>...</td>\n",
              "    </tr>\n",
              "    <tr>\n",
              "      <th>15551</th>\n",
              "      <td>2020</td>\n",
              "      <td>Delta Air Lines</td>\n",
              "      <td>Utah</td>\n",
              "      <td>California</td>\n",
              "      <td>NaN</td>\n",
              "      <td>NaN</td>\n",
              "      <td>NaN</td>\n",
              "      <td>NaN</td>\n",
              "      <td>1</td>\n",
              "      <td>584</td>\n",
              "    </tr>\n",
              "    <tr>\n",
              "      <th>15552</th>\n",
              "      <td>2020</td>\n",
              "      <td>Delta Air Lines</td>\n",
              "      <td>Utah</td>\n",
              "      <td>California</td>\n",
              "      <td>NaN</td>\n",
              "      <td>NaN</td>\n",
              "      <td>NaN</td>\n",
              "      <td>NaN</td>\n",
              "      <td>1</td>\n",
              "      <td>584</td>\n",
              "    </tr>\n",
              "    <tr>\n",
              "      <th>15553</th>\n",
              "      <td>2020</td>\n",
              "      <td>Delta Air Lines</td>\n",
              "      <td>Washington</td>\n",
              "      <td>Nevada</td>\n",
              "      <td>NaN</td>\n",
              "      <td>NaN</td>\n",
              "      <td>NaN</td>\n",
              "      <td>NaN</td>\n",
              "      <td>1</td>\n",
              "      <td>867</td>\n",
              "    </tr>\n",
              "    <tr>\n",
              "      <th>15554</th>\n",
              "      <td>2020</td>\n",
              "      <td>Delta Air Lines</td>\n",
              "      <td>Nevada</td>\n",
              "      <td>Washington</td>\n",
              "      <td>NaN</td>\n",
              "      <td>NaN</td>\n",
              "      <td>NaN</td>\n",
              "      <td>NaN</td>\n",
              "      <td>1</td>\n",
              "      <td>867</td>\n",
              "    </tr>\n",
              "    <tr>\n",
              "      <th>15555</th>\n",
              "      <td>2020</td>\n",
              "      <td>Delta Air Lines</td>\n",
              "      <td>California</td>\n",
              "      <td>Utah</td>\n",
              "      <td>NaN</td>\n",
              "      <td>NaN</td>\n",
              "      <td>NaN</td>\n",
              "      <td>NaN</td>\n",
              "      <td>1</td>\n",
              "      <td>584</td>\n",
              "    </tr>\n",
              "  </tbody>\n",
              "</table>\n",
              "<p>15556 rows × 10 columns</p>\n",
              "</div>"
            ],
            "text/plain": [
              "       year           carrier departure_state arrival_state  departure_delay  \\\n",
              "0      2018  SkyWest Airlines        Illinois      Michigan              NaN   \n",
              "1      2018  SkyWest Airlines        Illinois     Tennessee             -6.0   \n",
              "2      2018  SkyWest Airlines       Tennessee      Illinois              NaN   \n",
              "3      2018  SkyWest Airlines        Illinois     Tennessee             54.0   \n",
              "4      2018  SkyWest Airlines        Illinois      Illinois              NaN   \n",
              "...     ...               ...             ...           ...              ...   \n",
              "15551  2020   Delta Air Lines            Utah    California              NaN   \n",
              "15552  2020   Delta Air Lines            Utah    California              NaN   \n",
              "15553  2020   Delta Air Lines      Washington        Nevada              NaN   \n",
              "15554  2020   Delta Air Lines          Nevada    Washington              NaN   \n",
              "15555  2020   Delta Air Lines      California          Utah              NaN   \n",
              "\n",
              "       departure_over15_delay  arrival_delay  arrival_over15_delay  cancelled  \\\n",
              "0                         NaN            NaN                   NaN          1   \n",
              "1                         0.0            NaN                   NaN          1   \n",
              "2                         NaN            NaN                   NaN          1   \n",
              "3                         1.0            NaN                   NaN          1   \n",
              "4                         NaN            NaN                   NaN          1   \n",
              "...                       ...            ...                   ...        ...   \n",
              "15551                     NaN            NaN                   NaN          1   \n",
              "15552                     NaN            NaN                   NaN          1   \n",
              "15553                     NaN            NaN                   NaN          1   \n",
              "15554                     NaN            NaN                   NaN          1   \n",
              "15555                     NaN            NaN                   NaN          1   \n",
              "\n",
              "       distance  \n",
              "0           235  \n",
              "1           409  \n",
              "2           409  \n",
              "3           409  \n",
              "4           130  \n",
              "...         ...  \n",
              "15551       584  \n",
              "15552       584  \n",
              "15553       867  \n",
              "15554       867  \n",
              "15555       584  \n",
              "\n",
              "[15556 rows x 10 columns]"
            ]
          },
          "metadata": {
            "tags": []
          },
          "execution_count": 30
        }
      ]
    },
    {
      "cell_type": "code",
      "metadata": {
        "id": "AtUPes5Pdi4F",
        "colab_type": "code",
        "colab": {},
        "outputId": "5bad828c-3f7d-42e2-c12a-1355587fbc2c"
      },
      "source": [
        "# Find the proportion of cancelled flights for each year\n",
        "arr_cancelled_prop = []\n",
        "for year in range(2018,2021,1):\n",
        "  print(year)  \n",
        "  total_cancelled = df_canelled[df_canelled.year == year].shape[0]\n",
        "  total_flights = total_cancelled + df[df.year == year].shape[0]\n",
        "  cancellation_proportion = total_cancelled/total_flights * 100\n",
        "  \n",
        "  arr_cancelled_prop.append({'year':year,\n",
        "                              'cancellation_proportion':cancellation_proportion\n",
        "                            })\n",
        "\n",
        "frame_cancelled_prop = pd.DataFrame(arr_cancelled_prop)\n",
        "sb.barplot(data=frame_cancelled_prop,x= 'year',y='cancellation_proportion', color=sb.color_palette()[0])"
      ],
      "execution_count": null,
      "outputs": [
        {
          "output_type": "stream",
          "text": [
            "2018\n",
            "2019\n",
            "2020\n"
          ],
          "name": "stdout"
        },
        {
          "output_type": "execute_result",
          "data": {
            "text/plain": [
              "<matplotlib.axes._subplots.AxesSubplot at 0x25b804d2948>"
            ]
          },
          "metadata": {
            "tags": []
          },
          "execution_count": 31
        },
        {
          "output_type": "display_data",
          "data": {
            "image/png": "[encoded data removed]",
            "text/plain": [
              "<Figure size 432x288 with 1 Axes>"
            ]
          },
          "metadata": {
            "tags": [],
            "needs_background": "light"
          }
        }
      ]
    },
    {
      "cell_type": "markdown",
      "metadata": {
        "id": "9Uw8UVVqdi4H",
        "colab_type": "text"
      },
      "source": [
        "> #### The cancellation increased by approximately 1.5% in may 2019. Consequently, in 2020 the rate increased also by about 1.5%."
      ]
    },
    {
      "cell_type": "markdown",
      "metadata": {
        "id": "YwfX-8XNdi4H",
        "colab_type": "text"
      },
      "source": [
        "### Talk about some of the relationships you observed in this part of the investigation. How did the feature(s) of interest vary with other features in the dataset?\n",
        "\n",
        ">  Part 2: The Cancellation rate is increasing annually by approximately 1.5%. Appearently, this increasing is the same in 2019 and 2020 despite of the COVID-19 impact. This might be as a result of the low flights number in 2020.\n",
        "\n",
        "### Did you observe any interesting relationships between the other features (not the main feature(s) of interest)?\n",
        "\n",
        "> Part 1: The distance feature is not related directly with the delay time. However, the delay usually occur when traveling distance is more than 100 miles."
      ]
    },
    {
      "cell_type": "markdown",
      "metadata": {
        "id": "vxrPPagSdi4H",
        "colab_type": "text"
      },
      "source": [
        "## Multivariate Exploration"
      ]
    },
    {
      "cell_type": "markdown",
      "metadata": {
        "id": "U_oknE37di4I",
        "colab_type": "text"
      },
      "source": [
        "### Q3.1: What is the flights count for each carrier in each year?"
      ]
    },
    {
      "cell_type": "code",
      "metadata": {
        "id": "wQNSqlK5di4I",
        "colab_type": "code",
        "colab": {},
        "outputId": "a05afdcb-d782-42a1-a46b-c9c0b1e6b44d"
      },
      "source": [
        "# Flights number for each carrier/year\n",
        "sb.countplot(data=df, x='carrier', hue='year')\n",
        "plt.xticks(rotation=15)"
      ],
      "execution_count": null,
      "outputs": [
        {
          "output_type": "execute_result",
          "data": {
            "text/plain": [
              "(array([0, 1, 2, 3]), <a list of 4 Text xticklabel objects>)"
            ]
          },
          "metadata": {
            "tags": []
          },
          "execution_count": 32
        },
        {
          "output_type": "display_data",
          "data": {
            "image/png": "[encoded data removed]",
            "text/plain": [
              "<Figure size 432x288 with 1 Axes>"
            ]
          },
          "metadata": {
            "tags": [],
            "needs_background": "light"
          }
        }
      ]
    },
    {
      "cell_type": "markdown",
      "metadata": {
        "id": "ffdKOVzddi4K",
        "colab_type": "text"
      },
      "source": [
        "### Q3.2: How do the delay durations differ between the three carriers in each year?"
      ]
    },
    {
      "cell_type": "code",
      "metadata": {
        "id": "bvdOuXEBdi4K",
        "colab_type": "code",
        "colab": {},
        "outputId": "7fcfa308-1a18-4da2-ac30-dd924e6da817"
      },
      "source": [
        "sb.barplot(data=df, x='carrier', y='departure_delay', hue='year')\n",
        "plt.xticks(rotation=15)"
      ],
      "execution_count": null,
      "outputs": [
        {
          "output_type": "execute_result",
          "data": {
            "text/plain": [
              "(array([0, 1, 2, 3]), <a list of 4 Text xticklabel objects>)"
            ]
          },
          "metadata": {
            "tags": []
          },
          "execution_count": 33
        },
        {
          "output_type": "display_data",
          "data": {
            "image/png": "[encoded data removed]",
            "text/plain": [
              "<Figure size 432x288 with 1 Axes>"
            ]
          },
          "metadata": {
            "tags": [],
            "needs_background": "light"
          }
        }
      ]
    },
    {
      "cell_type": "code",
      "metadata": {
        "id": "YnNVPGHedi4N",
        "colab_type": "code",
        "colab": {},
        "outputId": "e99a1a3d-c9e0-438c-c0ea-f99b37e807c3"
      },
      "source": [
        "# Additional plot: Box plot\n",
        "sb.boxplot(data=df, x='carrier', y='departure_delay', hue='year', showfliers = False)\n",
        "plt.xticks(rotation=15)\n",
        "plt.grid(axis='y')"
      ],
      "execution_count": null,
      "outputs": [
        {
          "output_type": "display_data",
          "data": {
            "image/png": "[encoded data removed]",
            "text/plain": [
              "<Figure size 432x288 with 1 Axes>"
            ]
          },
          "metadata": {
            "tags": [],
            "needs_background": "light"
          }
        }
      ]
    },
    {
      "cell_type": "markdown",
      "metadata": {
        "id": "7uOl-gBFdi4O",
        "colab_type": "text"
      },
      "source": [
        "### Talk about some of the relationships you observed in this part of the investigation. Were there features that strengthened each other in terms of looking at your feature(s) of interest?\n",
        "\n",
        "> Part 1: Interestingly, may 2018 and 2019 had nearly equal number of flights with respect to each carrier. Nevertheless, may 2020 had sharp decline in flights number. Actually the main reason is COVID-19 impact.\n",
        "\n",
        "> Part 2: The delay duration versus the carrier and the year shows something enthralling! The average delay duration for each carrier was positive but in 2020. This means that the flights was departing earlier than the scheduled.(negative value means earlier departure) \n",
        "\n",
        "### Were there any interesting or surprising interactions between features?\n",
        "\n",
        "> As illustrated, the flights number dropped significantly in may 2020 compared with may 2018 and 2019. About 36% of the total number of flights in may 2018,2019 is operated in the same month in 2020 for southwest airlines, as instance. In addition, carriers at all tended to provide better services and trust for customers due to the restrictions and people worry about the pandemic.  "
      ]
    }
  ]
}
